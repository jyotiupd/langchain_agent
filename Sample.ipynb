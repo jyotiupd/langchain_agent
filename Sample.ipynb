{
 "cells": [
  {
   "cell_type": "code",
   "execution_count": 1,
   "metadata": {},
   "outputs": [],
   "source": [
    "\n",
    "#\n",
    "\n",
    "import warnings\n",
    "\n",
    "from langchain.agents import AgentType\n",
    "from langchain.chains import LLMChain, StuffDocumentsChain\n",
    "from langchain_community.utilities import SQLDatabase\n",
    "from langchain_community.vectorstores import FAISS\n",
    "from langchain_community.agent_toolkits import create_sql_agent\n",
    "from langchain.agents.agent_toolkits.sql.toolkit import SQLDatabaseToolkit\n",
    "\n",
    "from langchain_core.prompts import PromptTemplate\n",
    "\n",
    "from utils.load_model import embeddings, model # Replace or use your model here\n",
    "from langchain.agents import AgentType, Tool, initialize_agent, AgentExecutor, create_react_agent\n",
    "\n",
    "from langchain_core.tools import tool\n",
    "\n",
    "warnings.filterwarnings('ignore')"
   ]
  },
  {
   "cell_type": "code",
   "execution_count": 2,
   "metadata": {},
   "outputs": [],
   "source": [
    "erc_stuff_prompt_override = \"\"\"\n",
    "\n",
    "Role: Experienced company representative, proficient at finding information pertinent to any employee \n",
    "queries in your employee policies.\n",
    "Task: Your task is to respond to the User Query with detailed information using the ``context``  and \n",
    "``metadata`` provided below.\n",
    "Tone: Respond to the user query in a professional, courteous, and helpful tone\n",
    "Adhere strictly to the company's policies and guidelines, and ensure your response is informative, \n",
    "accurate, and formatted according to the provided template.\n",
    "-----\n",
    "Context: {context}\n",
    "-----\n",
    "Template for Response:\n",
    "Answer: [Provide a clear and direct answer to the user's inquiry.]\n",
    "Explanation: [Provide a detailed explanation of the company's policy or guideline, using plain language and avoiding jargon.]\n",
    "Source: [Reference the source of the information, including document names and page numbers.]\n",
    "\n",
    "----------------\n",
    "Given the Context and Instructions above, answer the below User Query with as much detail as possible.\n",
    "-----\n",
    "User Query: '{query}'\n",
    "-----\n",
    "\n",
    "\"\"\""
   ]
  },
  {
   "cell_type": "code",
   "execution_count": 3,
   "metadata": {},
   "outputs": [],
   "source": [
    "# SQL Toolkit initializations\n",
    "leave_db = SQLDatabase.from_uri(\"sqlite:///data/db/employee_leaves.db\")\n",
    "insurance_db = SQLDatabase.from_uri(\"sqlite:///data/db/health_insurance.db\")\n",
    "it_db = SQLDatabase.from_uri(\"sqlite:///data/db/IT_support.db\")\n",
    "#\n",
    "leave_toolkit = SQLDatabaseToolkit(db=leave_db, llm=model)\n",
    "ins_toolkit = SQLDatabaseToolkit(db=insurance_db, llm=model)\n",
    "it_toolkit = SQLDatabaseToolkit(db=it_db, llm=model)\n",
    "#\n",
    "index_path = \"./data/erc_docs\"\n",
    "# Run custom stuff chain enterprise_rag_chain (erc)\n",
    "erc_document_variable_name = \"context\"\n",
    "erc_document_prompt = PromptTemplate(input_variables=[\"page_content\"], template=\"{page_content}\")"
   ]
  },
  {
   "cell_type": "code",
   "execution_count": 4,
   "metadata": {},
   "outputs": [],
   "source": [
    "@tool\n",
    "def get_policy_details(query: str) -> str:\n",
    "    \"\"\"\n",
    "    A function that retrieves a policy answer based on a query using a specified index and model.\n",
    "\n",
    "    Parameters:\n",
    "    query (str): The query string used to search for the policy answer.\n",
    "    eid (Optional): The entity ID to filter the search by.\n",
    "    e_name (Optional): The entity name to filter the search by.\n",
    "\n",
    "    Returns:\n",
    "    str: The policy answer retrieved based on the query.\n",
    "    \"\"\"\n",
    "    print(f\"INFORM--Inside get_policy_answer: {query}\")\n",
    "    #\n",
    "    policy_db = FAISS.load_local(index_path, embeddings, allow_dangerous_deserialization=True)\n",
    "    #\n",
    "    retriever = policy_db.as_retriever(search_type=\"mmr\", search_kwargs={\"fetch_k\": 20, \"k\": 5})\n",
    "    #\n",
    "    docs = retriever.get_relevant_documents(query=query, verbose=False)\n",
    "    #\n",
    "    erc_prompt = PromptTemplate(template=erc_stuff_prompt_override, input_variables=[\"context\", \"query\"])\n",
    "    #\n",
    "    llm_chain = LLMChain(llm=model, prompt=erc_prompt)\n",
    "    #\n",
    "    chain = StuffDocumentsChain(\n",
    "        llm_chain=llm_chain, document_prompt=erc_document_prompt,\n",
    "        document_variable_name=erc_document_variable_name,\n",
    "    )\n",
    "    result = chain.run(input_documents=docs, query=query)\n",
    "    return result"
   ]
  },
  {
   "cell_type": "code",
   "execution_count": 5,
   "metadata": {},
   "outputs": [],
   "source": [
    "leave_agent_executor = create_sql_agent(\n",
    "    llm=model, toolkit=leave_toolkit, verbose=False,\n",
    "    agent_type=AgentType.ZERO_SHOT_REACT_DESCRIPTION,\n",
    "    agent_executor_kwargs={\"handle_parsing_errors\": True}\n",
    ")\n",
    "insurance_agent_executor = create_sql_agent(\n",
    "    llm=model, toolkit=ins_toolkit, verbose=False,\n",
    "    agent_type=AgentType.ZERO_SHOT_REACT_DESCRIPTION,\n",
    "    agent_executor_kwargs={\"handle_parsing_errors\": True}\n",
    ")\n",
    "it_agent_executor = create_sql_agent(\n",
    "    llm=model, toolkit=it_toolkit, verbose=False,\n",
    "    agent_type=AgentType.ZERO_SHOT_REACT_DESCRIPTION,\n",
    "    agent_executor_kwargs={\"handle_parsing_errors\": True}\n",
    ")\n",
    "#"
   ]
  },
  {
   "cell_type": "code",
   "execution_count": null,
   "metadata": {},
   "outputs": [],
   "source": [
    "tools = [\n",
    "    Tool(\n",
    "        name=\"Leave agent system\",\n",
    "        func=leave_agent_executor.run,\n",
    "        description=\"useful for when you need to answer questions about the leaves of an employee\",    \n",
    "    ),\n",
    "    Tool(\n",
    "        name=\"Insurance agent system\",\n",
    "        func=insurance_agent_executor.run,\n",
    "        description=\"useful for when you need to answer questions about insurance details of an employee\",    \n",
    "    ),\n",
    "    Tool(\n",
    "        name=\"IT Support system\",\n",
    "        func=it_agent_executor.run,\n",
    "        description=\"useful for when you need to answer questions about IT tickets. Input should be a fully formed question.\",   \n",
    "    ),\n",
    "    Tool(\n",
    "        name=\"Get_Policy_Details\",\n",
    "        func=get_policy_details,\n",
    "        description=\"A tool that returns textual information about any policies\",\n",
    "    ),\n",
    "]"
   ]
  },
  {
   "cell_type": "code",
   "execution_count": null,
   "metadata": {},
   "outputs": [],
   "source": [
    "# leave_agent_executor.run(\"How many leaves do emp_id = '38433' have available?\")\n",
    "# leave_agent_executor.run(\"give me total number of leaves available of all employees and deduct total leaves available for 39592 employee? give me details of each step point wise\")"
   ]
  },
  {
   "cell_type": "code",
   "execution_count": null,
   "metadata": {},
   "outputs": [],
   "source": [
    "#\n",
    "# memory = ConversationBufferMemory(memory_key=\"chat_history\")\n",
    "agent = initialize_agent(\n",
    "    tools=tools, llm=model, agent=AgentType.ZERO_SHOT_REACT_DESCRIPTION, verbose=True, handle_parsing_errors = True\n",
    ")"
   ]
  },
  {
   "cell_type": "code",
   "execution_count": null,
   "metadata": {},
   "outputs": [],
   "source": [
    "agent.run(\"How many leaves do employee '39592' have? and divide with the balance insurance amount from total leaves of this employee. provide me each answer in new line.\")"
   ]
  },
  {
   "cell_type": "code",
   "execution_count": null,
   "metadata": {},
   "outputs": [],
   "source": [
    "agent.run(\"Give me 2 employee names who use Northwind Health Plus insurance and provide details on Women's health and cancer rights from policy documents\")"
   ]
  },
  {
   "cell_type": "markdown",
   "metadata": {},
   "source": [
    "### create_react_agent"
   ]
  },
  {
   "cell_type": "code",
   "execution_count": null,
   "metadata": {},
   "outputs": [],
   "source": [
    "from langchain import hub\n",
    "from langchain.agents import AgentExecutor, create_react_agent\n",
    "\n",
    "prompt = hub.pull(\"hwchase17/react\")\n",
    "agent = create_react_agent(model, tools, prompt)\n",
    "agent_executor = AgentExecutor(agent=agent, tools=tools, verbose=True, handle_parsing_errors = True)"
   ]
  },
  {
   "cell_type": "code",
   "execution_count": null,
   "metadata": {},
   "outputs": [],
   "source": [
    "agent_executor.invoke({\n",
    "    \"input\": \"\"\" Give me 2 employee names who use Northwind Health Plus insurance and provide details on Women's health and cancer rights from policy documents\n",
    "      give me answer point wise\"\"\"\n",
    "    })"
   ]
  },
  {
   "cell_type": "markdown",
   "metadata": {},
   "source": [
    "### create_openai_tools_agent"
   ]
  },
  {
   "cell_type": "code",
   "execution_count": 6,
   "metadata": {},
   "outputs": [],
   "source": [
    "from langchain import hub\n",
    "from langchain.agents import AgentExecutor, create_openai_tools_agent"
   ]
  },
  {
   "cell_type": "code",
   "execution_count": 7,
   "metadata": {},
   "outputs": [],
   "source": [
    "tools = [\n",
    "    Tool(\n",
    "        name=\"Leave_Agent_System\",\n",
    "        func=leave_agent_executor.run,\n",
    "        description=\"useful for when you need to answer questions about the leaves of an employee\",    \n",
    "    ),\n",
    "    Tool(\n",
    "        name=\"Insurance_Agent_System\",\n",
    "        func=insurance_agent_executor.run,\n",
    "        description=\"useful for when you need to answer questions about insurance details of an employee\",    \n",
    "    ),\n",
    "    Tool(\n",
    "        name=\"IT_Support_system\",\n",
    "        func=it_agent_executor.run,\n",
    "        description=\"useful for when you need to answer questions about IT tickets. Input should be a fully formed question.\",   \n",
    "    ),\n",
    "    Tool(\n",
    "        name=\"Get_Policy_Details\",\n",
    "        func=get_policy_details,\n",
    "        description=\"A tool that returns textual information about any policies\",\n",
    "    ),\n",
    "]"
   ]
  },
  {
   "cell_type": "code",
   "execution_count": 60,
   "metadata": {},
   "outputs": [],
   "source": [
    "\n",
    "template = \"\"\"\n",
    "    You are an exceptionally helpful assistant dedicated to providing accurate answers to user queries. \n",
    "    You have access to only specific set of tools each designed to assist users effectively and answer to those queries which are related to given tools, here are the tools you have {tools}. \n",
    "    Also provide answers which were there in chat history if it is related.\n",
    "    If you are unable to provide information realted to the user query from the given tools simply respond with \"I don’t know\", avoid making up answers. \n",
    "    Here is the input {input} for which you need to provide an answer\"\"\""
   ]
  },
  {
   "cell_type": "code",
   "execution_count": 61,
   "metadata": {},
   "outputs": [],
   "source": [
    "# prompt = PromptTemplate(template=template,input_variables=[\"input\",\"tools\"])\n",
    "\n",
    "from langchain_core.prompts import ChatPromptTemplate, MessagesPlaceholder\n",
    "from langchain.memory import ConversationBufferMemory,ChatMessageHistory\n",
    "from langchain_core.runnables.history import RunnableWithMessageHistory\n",
    "\n",
    "prompt = ChatPromptTemplate.from_messages(\n",
    "    [\n",
    "        (\"system\", template),\n",
    "        MessagesPlaceholder(\"chat_history\", optional=True),\n",
    "        (\"human\", \"{input}\"),\n",
    "        MessagesPlaceholder(\"agent_scratchpad\"),\n",
    "    ]\n",
    ")"
   ]
  },
  {
   "cell_type": "code",
   "execution_count": 62,
   "metadata": {},
   "outputs": [],
   "source": [
    "memory = ChatMessageHistory(messages=[])\n",
    "agent = create_openai_tools_agent(model, tools, prompt)\n",
    "agent_executor = AgentExecutor(agent=agent, tools=tools,  handle_parsing_errors = True, verbose=False)\n",
    "\n",
    "agent_with_chat_history = RunnableWithMessageHistory(\n",
    "    agent_executor,\n",
    "    # This is needed because in most real world scenarios, a session id is needed\n",
    "    # It isn't really used here because we are using a simple in memory ChatMessageHistory\n",
    "    lambda session_id: memory,\n",
    "    input_messages_key=\"input\",\n",
    "    history_messages_key=\"chat_history\",\n",
    ")"
   ]
  },
  {
   "cell_type": "code",
   "execution_count": 63,
   "metadata": {},
   "outputs": [
    {
     "name": "stdout",
     "output_type": "stream",
     "text": [
      "INFORM--Inside get_policy_answer: Balance billing protection\n",
      "I found the following information for you:\n",
      "1. Employee details with Northwind Health Plus insurance and a zero balance:\n",
      "   - Michael Brown (Emp_ID: 42962)\n",
      "   - Jennifer Miller (Emp_ID: 38076)\n",
      "   - Jessica White (Emp_ID: 38613)\n",
      "2. Balance billing protection:\n",
      "   - Balance billing protection is a feature of the Northwind Standard plan offered to Contoso Electronics employees, which protects them from unexpected costs when visiting in-network providers.\n",
      "   - Balance billing occurs when a provider bills you for the difference between what they charge and the amount that your insurance plan covers. With balance billing protection, you are not responsible for this difference when using in-network providers.\n",
      "   - This protection does not apply to out-of-network providers or certain services like cosmetic services and experimental procedures.\n",
      "   - To ensure that balance billing protection applies, it is recommended to get preauthorization, ask questions about the services and costs, use in-network providers, consider alternative treatments, and know your rights.\n",
      "   - Source: Contoso Electronics Plan and Benefit Packages - Balance Billing Protection section.\n"
     ]
    }
   ],
   "source": [
    "input = \"\"\" Give me employee details who has Northwind Health Plus insurance and has Zero balance \n",
    "    also provide details on Balance billing protection\n",
    "      give me answer point wise\"\"\"\n",
    "#\n",
    "result = agent_with_chat_history.invoke({\n",
    "    \"input\": input,\n",
    "    \"tools\":tools},\n",
    "    config={\"configurable\": {\"session_id\": \"Santosh\"}},\n",
    "    )\n",
    "#\n",
    "# result = agent_executor.invoke({\n",
    "#     \"input\": \"\"\"Tell me a joke about CTS\"\"\",\n",
    "#     \"tools\":tools\n",
    "#     })\n",
    "#\n",
    "res = result['output']\n",
    "res_val = res.split(\"\\n\\n\")\n",
    "for val in res_val:\n",
    "    print(val)\n"
   ]
  },
  {
   "cell_type": "code",
   "execution_count": 64,
   "metadata": {},
   "outputs": [
    {
     "data": {
      "text/plain": [
       "{'input': ' Give me employee details who has Northwind Health Plus insurance and has Zero balance \\n    also provide details on Balance billing protection\\n      give me answer point wise',\n",
       " 'tools': [Tool(name='Leave_Agent_System', description='useful for when you need to answer questions about the leaves of an employee', func=<bound method Chain.run of AgentExecutor(name='SQL Agent Executor', agent=RunnableAgent(runnable=RunnableAssign(mapper={\n",
       "    agent_scratchpad: RunnableLambda(lambda x: format_log_to_str(x['intermediate_steps']))\n",
       "  })\n",
       "  | PromptTemplate(input_variables=['agent_scratchpad', 'input'], partial_variables={'tools': \"sql_db_query - Input to this tool is a detailed and correct SQL query, output is a result from the database. If the query is not correct, an error message will be returned. If an error is returned, rewrite the query, check the query, and try again. If you encounter an issue with Unknown column 'xxxx' in 'field list', use sql_db_schema to query the correct table fields.\\nsql_db_schema - Input to this tool is a comma-separated list of tables, output is the schema and sample rows for those tables. Be sure that the tables actually exist by calling sql_db_list_tables first! Example Input: table1, table2, table3\\nsql_db_list_tables - Input is an empty string, output is a comma-separated list of tables in the database.\\nsql_db_query_checker - Use this tool to double check if your query is correct before executing it. Always use this tool before executing a query with sql_db_query!\", 'tool_names': 'sql_db_query, sql_db_schema, sql_db_list_tables, sql_db_query_checker'}, template='Answer the following questions as best you can. You have access to the following tools:\\n\\n{tools}\\n\\nUse the following format:\\n\\nQuestion: the input question you must answer\\nThought: you should always think about what to do\\nAction: the action to take, should be one of [{tool_names}]\\nAction Input: the input to the action\\nObservation: the result of the action\\n... (this Thought/Action/Action Input/Observation can repeat N times)\\nThought: I now know the final answer\\nFinal Answer: the final answer to the original input question\\n\\nBegin!\\n\\nQuestion: {input}\\nThought:{agent_scratchpad}')\n",
       "  | RunnableBinding(bound=AzureChatOpenAI(verbose=True, client=<openai.resources.chat.completions.Completions object at 0x000001814369AC50>, async_client=<openai.resources.chat.completions.AsyncCompletions object at 0x00000181436AAC90>, temperature=0.3, openai_api_key=SecretStr('**********'), openai_proxy='', azure_endpoint='https://cognizantioa.openai.azure.com/', deployment_name='gpt4-8k-srinid', openai_api_version='2023-05-15', openai_api_type='azure'), kwargs={'stop': ['\\nObservation']})\n",
       "  | ReActSingleInputOutputParser(), input_keys_arg=['input'], return_keys_arg=['output'], stream_runnable=True), tools=[QuerySQLDataBaseTool(description=\"Input to this tool is a detailed and correct SQL query, output is a result from the database. If the query is not correct, an error message will be returned. If an error is returned, rewrite the query, check the query, and try again. If you encounter an issue with Unknown column 'xxxx' in 'field list', use sql_db_schema to query the correct table fields.\", db=<langchain_community.utilities.sql_database.SQLDatabase object at 0x0000018143689210>), InfoSQLDatabaseTool(description='Input to this tool is a comma-separated list of tables, output is the schema and sample rows for those tables. Be sure that the tables actually exist by calling sql_db_list_tables first! Example Input: table1, table2, table3', db=<langchain_community.utilities.sql_database.SQLDatabase object at 0x0000018143689210>), ListSQLDatabaseTool(db=<langchain_community.utilities.sql_database.SQLDatabase object at 0x0000018143689210>), QuerySQLCheckerTool(description='Use this tool to double check if your query is correct before executing it. Always use this tool before executing a query with sql_db_query!', db=<langchain_community.utilities.sql_database.SQLDatabase object at 0x0000018143689210>, llm=AzureChatOpenAI(verbose=True, client=<openai.resources.chat.completions.Completions object at 0x000001814369AC50>, async_client=<openai.resources.chat.completions.AsyncCompletions object at 0x00000181436AAC90>, temperature=0.3, openai_api_key=SecretStr('**********'), openai_proxy='', azure_endpoint='https://cognizantioa.openai.azure.com/', deployment_name='gpt4-8k-srinid', openai_api_version='2023-05-15', openai_api_type='azure'), llm_chain=LLMChain(prompt=PromptTemplate(input_variables=['dialect', 'query'], template='\\n{query}\\nDouble check the {dialect} query above for common mistakes, including:\\n- Using NOT IN with NULL values\\n- Using UNION when UNION ALL should have been used\\n- Using BETWEEN for exclusive ranges\\n- Data type mismatch in predicates\\n- Properly quoting identifiers\\n- Using the correct number of arguments for functions\\n- Casting to the correct data type\\n- Using the proper columns for joins\\n\\nIf there are any of the above mistakes, rewrite the query. If there are no mistakes, just reproduce the original query.\\n\\nOutput the final SQL query only.\\n\\nSQL Query: '), llm=AzureChatOpenAI(verbose=True, client=<openai.resources.chat.completions.Completions object at 0x000001814369AC50>, async_client=<openai.resources.chat.completions.AsyncCompletions object at 0x00000181436AAC90>, temperature=0.3, openai_api_key=SecretStr('**********'), openai_proxy='', azure_endpoint='https://cognizantioa.openai.azure.com/', deployment_name='gpt4-8k-srinid', openai_api_version='2023-05-15', openai_api_type='azure')))], handle_parsing_errors=True)>),\n",
       "  Tool(name='Insurance_Agent_System', description='useful for when you need to answer questions about insurance details of an employee', func=<bound method Chain.run of AgentExecutor(name='SQL Agent Executor', agent=RunnableAgent(runnable=RunnableAssign(mapper={\n",
       "    agent_scratchpad: RunnableLambda(lambda x: format_log_to_str(x['intermediate_steps']))\n",
       "  })\n",
       "  | PromptTemplate(input_variables=['agent_scratchpad', 'input'], partial_variables={'tools': \"sql_db_query - Input to this tool is a detailed and correct SQL query, output is a result from the database. If the query is not correct, an error message will be returned. If an error is returned, rewrite the query, check the query, and try again. If you encounter an issue with Unknown column 'xxxx' in 'field list', use sql_db_schema to query the correct table fields.\\nsql_db_schema - Input to this tool is a comma-separated list of tables, output is the schema and sample rows for those tables. Be sure that the tables actually exist by calling sql_db_list_tables first! Example Input: table1, table2, table3\\nsql_db_list_tables - Input is an empty string, output is a comma-separated list of tables in the database.\\nsql_db_query_checker - Use this tool to double check if your query is correct before executing it. Always use this tool before executing a query with sql_db_query!\", 'tool_names': 'sql_db_query, sql_db_schema, sql_db_list_tables, sql_db_query_checker'}, template='Answer the following questions as best you can. You have access to the following tools:\\n\\n{tools}\\n\\nUse the following format:\\n\\nQuestion: the input question you must answer\\nThought: you should always think about what to do\\nAction: the action to take, should be one of [{tool_names}]\\nAction Input: the input to the action\\nObservation: the result of the action\\n... (this Thought/Action/Action Input/Observation can repeat N times)\\nThought: I now know the final answer\\nFinal Answer: the final answer to the original input question\\n\\nBegin!\\n\\nQuestion: {input}\\nThought:{agent_scratchpad}')\n",
       "  | RunnableBinding(bound=AzureChatOpenAI(verbose=True, client=<openai.resources.chat.completions.Completions object at 0x000001814369AC50>, async_client=<openai.resources.chat.completions.AsyncCompletions object at 0x00000181436AAC90>, temperature=0.3, openai_api_key=SecretStr('**********'), openai_proxy='', azure_endpoint='https://cognizantioa.openai.azure.com/', deployment_name='gpt4-8k-srinid', openai_api_version='2023-05-15', openai_api_type='azure'), kwargs={'stop': ['\\nObservation']})\n",
       "  | ReActSingleInputOutputParser(), input_keys_arg=['input'], return_keys_arg=['output'], stream_runnable=True), tools=[QuerySQLDataBaseTool(description=\"Input to this tool is a detailed and correct SQL query, output is a result from the database. If the query is not correct, an error message will be returned. If an error is returned, rewrite the query, check the query, and try again. If you encounter an issue with Unknown column 'xxxx' in 'field list', use sql_db_schema to query the correct table fields.\", db=<langchain_community.utilities.sql_database.SQLDatabase object at 0x00000181436E7110>), InfoSQLDatabaseTool(description='Input to this tool is a comma-separated list of tables, output is the schema and sample rows for those tables. Be sure that the tables actually exist by calling sql_db_list_tables first! Example Input: table1, table2, table3', db=<langchain_community.utilities.sql_database.SQLDatabase object at 0x00000181436E7110>), ListSQLDatabaseTool(db=<langchain_community.utilities.sql_database.SQLDatabase object at 0x00000181436E7110>), QuerySQLCheckerTool(description='Use this tool to double check if your query is correct before executing it. Always use this tool before executing a query with sql_db_query!', db=<langchain_community.utilities.sql_database.SQLDatabase object at 0x00000181436E7110>, llm=AzureChatOpenAI(verbose=True, client=<openai.resources.chat.completions.Completions object at 0x000001814369AC50>, async_client=<openai.resources.chat.completions.AsyncCompletions object at 0x00000181436AAC90>, temperature=0.3, openai_api_key=SecretStr('**********'), openai_proxy='', azure_endpoint='https://cognizantioa.openai.azure.com/', deployment_name='gpt4-8k-srinid', openai_api_version='2023-05-15', openai_api_type='azure'), llm_chain=LLMChain(prompt=PromptTemplate(input_variables=['dialect', 'query'], template='\\n{query}\\nDouble check the {dialect} query above for common mistakes, including:\\n- Using NOT IN with NULL values\\n- Using UNION when UNION ALL should have been used\\n- Using BETWEEN for exclusive ranges\\n- Data type mismatch in predicates\\n- Properly quoting identifiers\\n- Using the correct number of arguments for functions\\n- Casting to the correct data type\\n- Using the proper columns for joins\\n\\nIf there are any of the above mistakes, rewrite the query. If there are no mistakes, just reproduce the original query.\\n\\nOutput the final SQL query only.\\n\\nSQL Query: '), llm=AzureChatOpenAI(verbose=True, client=<openai.resources.chat.completions.Completions object at 0x000001814369AC50>, async_client=<openai.resources.chat.completions.AsyncCompletions object at 0x00000181436AAC90>, temperature=0.3, openai_api_key=SecretStr('**********'), openai_proxy='', azure_endpoint='https://cognizantioa.openai.azure.com/', deployment_name='gpt4-8k-srinid', openai_api_version='2023-05-15', openai_api_type='azure')))], handle_parsing_errors=True)>),\n",
       "  Tool(name='IT_Support_system', description='useful for when you need to answer questions about IT tickets. Input should be a fully formed question.', func=<bound method Chain.run of AgentExecutor(name='SQL Agent Executor', agent=RunnableAgent(runnable=RunnableAssign(mapper={\n",
       "    agent_scratchpad: RunnableLambda(lambda x: format_log_to_str(x['intermediate_steps']))\n",
       "  })\n",
       "  | PromptTemplate(input_variables=['agent_scratchpad', 'input'], partial_variables={'tools': \"sql_db_query - Input to this tool is a detailed and correct SQL query, output is a result from the database. If the query is not correct, an error message will be returned. If an error is returned, rewrite the query, check the query, and try again. If you encounter an issue with Unknown column 'xxxx' in 'field list', use sql_db_schema to query the correct table fields.\\nsql_db_schema - Input to this tool is a comma-separated list of tables, output is the schema and sample rows for those tables. Be sure that the tables actually exist by calling sql_db_list_tables first! Example Input: table1, table2, table3\\nsql_db_list_tables - Input is an empty string, output is a comma-separated list of tables in the database.\\nsql_db_query_checker - Use this tool to double check if your query is correct before executing it. Always use this tool before executing a query with sql_db_query!\", 'tool_names': 'sql_db_query, sql_db_schema, sql_db_list_tables, sql_db_query_checker'}, template='Answer the following questions as best you can. You have access to the following tools:\\n\\n{tools}\\n\\nUse the following format:\\n\\nQuestion: the input question you must answer\\nThought: you should always think about what to do\\nAction: the action to take, should be one of [{tool_names}]\\nAction Input: the input to the action\\nObservation: the result of the action\\n... (this Thought/Action/Action Input/Observation can repeat N times)\\nThought: I now know the final answer\\nFinal Answer: the final answer to the original input question\\n\\nBegin!\\n\\nQuestion: {input}\\nThought:{agent_scratchpad}')\n",
       "  | RunnableBinding(bound=AzureChatOpenAI(verbose=True, client=<openai.resources.chat.completions.Completions object at 0x000001814369AC50>, async_client=<openai.resources.chat.completions.AsyncCompletions object at 0x00000181436AAC90>, temperature=0.3, openai_api_key=SecretStr('**********'), openai_proxy='', azure_endpoint='https://cognizantioa.openai.azure.com/', deployment_name='gpt4-8k-srinid', openai_api_version='2023-05-15', openai_api_type='azure'), kwargs={'stop': ['\\nObservation']})\n",
       "  | ReActSingleInputOutputParser(), input_keys_arg=['input'], return_keys_arg=['output'], stream_runnable=True), tools=[QuerySQLDataBaseTool(description=\"Input to this tool is a detailed and correct SQL query, output is a result from the database. If the query is not correct, an error message will be returned. If an error is returned, rewrite the query, check the query, and try again. If you encounter an issue with Unknown column 'xxxx' in 'field list', use sql_db_schema to query the correct table fields.\", db=<langchain_community.utilities.sql_database.SQLDatabase object at 0x00000181436E7010>), InfoSQLDatabaseTool(description='Input to this tool is a comma-separated list of tables, output is the schema and sample rows for those tables. Be sure that the tables actually exist by calling sql_db_list_tables first! Example Input: table1, table2, table3', db=<langchain_community.utilities.sql_database.SQLDatabase object at 0x00000181436E7010>), ListSQLDatabaseTool(db=<langchain_community.utilities.sql_database.SQLDatabase object at 0x00000181436E7010>), QuerySQLCheckerTool(description='Use this tool to double check if your query is correct before executing it. Always use this tool before executing a query with sql_db_query!', db=<langchain_community.utilities.sql_database.SQLDatabase object at 0x00000181436E7010>, llm=AzureChatOpenAI(verbose=True, client=<openai.resources.chat.completions.Completions object at 0x000001814369AC50>, async_client=<openai.resources.chat.completions.AsyncCompletions object at 0x00000181436AAC90>, temperature=0.3, openai_api_key=SecretStr('**********'), openai_proxy='', azure_endpoint='https://cognizantioa.openai.azure.com/', deployment_name='gpt4-8k-srinid', openai_api_version='2023-05-15', openai_api_type='azure'), llm_chain=LLMChain(prompt=PromptTemplate(input_variables=['dialect', 'query'], template='\\n{query}\\nDouble check the {dialect} query above for common mistakes, including:\\n- Using NOT IN with NULL values\\n- Using UNION when UNION ALL should have been used\\n- Using BETWEEN for exclusive ranges\\n- Data type mismatch in predicates\\n- Properly quoting identifiers\\n- Using the correct number of arguments for functions\\n- Casting to the correct data type\\n- Using the proper columns for joins\\n\\nIf there are any of the above mistakes, rewrite the query. If there are no mistakes, just reproduce the original query.\\n\\nOutput the final SQL query only.\\n\\nSQL Query: '), llm=AzureChatOpenAI(verbose=True, client=<openai.resources.chat.completions.Completions object at 0x000001814369AC50>, async_client=<openai.resources.chat.completions.AsyncCompletions object at 0x00000181436AAC90>, temperature=0.3, openai_api_key=SecretStr('**********'), openai_proxy='', azure_endpoint='https://cognizantioa.openai.azure.com/', deployment_name='gpt4-8k-srinid', openai_api_version='2023-05-15', openai_api_type='azure')))], handle_parsing_errors=True)>),\n",
       "  Tool(name='Get_Policy_Details', description='A tool that returns textual information about any policies', func=StructuredTool(name='get_policy_details', description='A function that retrieves a policy answer based on a query using a specified index and model.\\n\\nParameters:\\nquery (str): The query string used to search for the policy answer.\\neid (Optional): The entity ID to filter the search by.\\ne_name (Optional): The entity name to filter the search by.\\n\\nReturns:\\nstr: The policy answer retrieved based on the query.', args_schema=<class 'pydantic.v1.main.get_policy_detailsSchema'>, func=<function get_policy_details at 0x0000018131B83920>))],\n",
       " 'chat_history': [],\n",
       " 'output': 'I found the following information for you:\\n\\n1. Employee details with Northwind Health Plus insurance and a zero balance:\\n   - Michael Brown (Emp_ID: 42962)\\n   - Jennifer Miller (Emp_ID: 38076)\\n   - Jessica White (Emp_ID: 38613)\\n\\n2. Balance billing protection:\\n   - Balance billing protection is a feature of the Northwind Standard plan offered to Contoso Electronics employees, which protects them from unexpected costs when visiting in-network providers.\\n   - Balance billing occurs when a provider bills you for the difference between what they charge and the amount that your insurance plan covers. With balance billing protection, you are not responsible for this difference when using in-network providers.\\n   - This protection does not apply to out-of-network providers or certain services like cosmetic services and experimental procedures.\\n   - To ensure that balance billing protection applies, it is recommended to get preauthorization, ask questions about the services and costs, use in-network providers, consider alternative treatments, and know your rights.\\n   - Source: Contoso Electronics Plan and Benefit Packages - Balance Billing Protection section.'}"
      ]
     },
     "execution_count": 64,
     "metadata": {},
     "output_type": "execute_result"
    }
   ],
   "source": [
    "result"
   ]
  },
  {
   "cell_type": "code",
   "execution_count": 74,
   "metadata": {},
   "outputs": [
    {
     "data": {
      "text/plain": [
       "{'input': 'What was the previous question I asked',\n",
       " 'tools': [Tool(name='Leave_Agent_System', description='useful for when you need to answer questions about the leaves of an employee', func=<bound method Chain.run of AgentExecutor(name='SQL Agent Executor', agent=RunnableAgent(runnable=RunnableAssign(mapper={\n",
       "    agent_scratchpad: RunnableLambda(lambda x: format_log_to_str(x['intermediate_steps']))\n",
       "  })\n",
       "  | PromptTemplate(input_variables=['agent_scratchpad', 'input'], partial_variables={'tools': \"sql_db_query - Input to this tool is a detailed and correct SQL query, output is a result from the database. If the query is not correct, an error message will be returned. If an error is returned, rewrite the query, check the query, and try again. If you encounter an issue with Unknown column 'xxxx' in 'field list', use sql_db_schema to query the correct table fields.\\nsql_db_schema - Input to this tool is a comma-separated list of tables, output is the schema and sample rows for those tables. Be sure that the tables actually exist by calling sql_db_list_tables first! Example Input: table1, table2, table3\\nsql_db_list_tables - Input is an empty string, output is a comma-separated list of tables in the database.\\nsql_db_query_checker - Use this tool to double check if your query is correct before executing it. Always use this tool before executing a query with sql_db_query!\", 'tool_names': 'sql_db_query, sql_db_schema, sql_db_list_tables, sql_db_query_checker'}, template='Answer the following questions as best you can. You have access to the following tools:\\n\\n{tools}\\n\\nUse the following format:\\n\\nQuestion: the input question you must answer\\nThought: you should always think about what to do\\nAction: the action to take, should be one of [{tool_names}]\\nAction Input: the input to the action\\nObservation: the result of the action\\n... (this Thought/Action/Action Input/Observation can repeat N times)\\nThought: I now know the final answer\\nFinal Answer: the final answer to the original input question\\n\\nBegin!\\n\\nQuestion: {input}\\nThought:{agent_scratchpad}')\n",
       "  | RunnableBinding(bound=AzureChatOpenAI(verbose=True, client=<openai.resources.chat.completions.Completions object at 0x000001814369AC50>, async_client=<openai.resources.chat.completions.AsyncCompletions object at 0x00000181436AAC90>, temperature=0.3, openai_api_key=SecretStr('**********'), openai_proxy='', azure_endpoint='https://cognizantioa.openai.azure.com/', deployment_name='gpt4-8k-srinid', openai_api_version='2023-05-15', openai_api_type='azure'), kwargs={'stop': ['\\nObservation']})\n",
       "  | ReActSingleInputOutputParser(), input_keys_arg=['input'], return_keys_arg=['output'], stream_runnable=True), tools=[QuerySQLDataBaseTool(description=\"Input to this tool is a detailed and correct SQL query, output is a result from the database. If the query is not correct, an error message will be returned. If an error is returned, rewrite the query, check the query, and try again. If you encounter an issue with Unknown column 'xxxx' in 'field list', use sql_db_schema to query the correct table fields.\", db=<langchain_community.utilities.sql_database.SQLDatabase object at 0x0000018143689210>), InfoSQLDatabaseTool(description='Input to this tool is a comma-separated list of tables, output is the schema and sample rows for those tables. Be sure that the tables actually exist by calling sql_db_list_tables first! Example Input: table1, table2, table3', db=<langchain_community.utilities.sql_database.SQLDatabase object at 0x0000018143689210>), ListSQLDatabaseTool(db=<langchain_community.utilities.sql_database.SQLDatabase object at 0x0000018143689210>), QuerySQLCheckerTool(description='Use this tool to double check if your query is correct before executing it. Always use this tool before executing a query with sql_db_query!', db=<langchain_community.utilities.sql_database.SQLDatabase object at 0x0000018143689210>, llm=AzureChatOpenAI(verbose=True, client=<openai.resources.chat.completions.Completions object at 0x000001814369AC50>, async_client=<openai.resources.chat.completions.AsyncCompletions object at 0x00000181436AAC90>, temperature=0.3, openai_api_key=SecretStr('**********'), openai_proxy='', azure_endpoint='https://cognizantioa.openai.azure.com/', deployment_name='gpt4-8k-srinid', openai_api_version='2023-05-15', openai_api_type='azure'), llm_chain=LLMChain(prompt=PromptTemplate(input_variables=['dialect', 'query'], template='\\n{query}\\nDouble check the {dialect} query above for common mistakes, including:\\n- Using NOT IN with NULL values\\n- Using UNION when UNION ALL should have been used\\n- Using BETWEEN for exclusive ranges\\n- Data type mismatch in predicates\\n- Properly quoting identifiers\\n- Using the correct number of arguments for functions\\n- Casting to the correct data type\\n- Using the proper columns for joins\\n\\nIf there are any of the above mistakes, rewrite the query. If there are no mistakes, just reproduce the original query.\\n\\nOutput the final SQL query only.\\n\\nSQL Query: '), llm=AzureChatOpenAI(verbose=True, client=<openai.resources.chat.completions.Completions object at 0x000001814369AC50>, async_client=<openai.resources.chat.completions.AsyncCompletions object at 0x00000181436AAC90>, temperature=0.3, openai_api_key=SecretStr('**********'), openai_proxy='', azure_endpoint='https://cognizantioa.openai.azure.com/', deployment_name='gpt4-8k-srinid', openai_api_version='2023-05-15', openai_api_type='azure')))], handle_parsing_errors=True)>),\n",
       "  Tool(name='Insurance_Agent_System', description='useful for when you need to answer questions about insurance details of an employee', func=<bound method Chain.run of AgentExecutor(name='SQL Agent Executor', agent=RunnableAgent(runnable=RunnableAssign(mapper={\n",
       "    agent_scratchpad: RunnableLambda(lambda x: format_log_to_str(x['intermediate_steps']))\n",
       "  })\n",
       "  | PromptTemplate(input_variables=['agent_scratchpad', 'input'], partial_variables={'tools': \"sql_db_query - Input to this tool is a detailed and correct SQL query, output is a result from the database. If the query is not correct, an error message will be returned. If an error is returned, rewrite the query, check the query, and try again. If you encounter an issue with Unknown column 'xxxx' in 'field list', use sql_db_schema to query the correct table fields.\\nsql_db_schema - Input to this tool is a comma-separated list of tables, output is the schema and sample rows for those tables. Be sure that the tables actually exist by calling sql_db_list_tables first! Example Input: table1, table2, table3\\nsql_db_list_tables - Input is an empty string, output is a comma-separated list of tables in the database.\\nsql_db_query_checker - Use this tool to double check if your query is correct before executing it. Always use this tool before executing a query with sql_db_query!\", 'tool_names': 'sql_db_query, sql_db_schema, sql_db_list_tables, sql_db_query_checker'}, template='Answer the following questions as best you can. You have access to the following tools:\\n\\n{tools}\\n\\nUse the following format:\\n\\nQuestion: the input question you must answer\\nThought: you should always think about what to do\\nAction: the action to take, should be one of [{tool_names}]\\nAction Input: the input to the action\\nObservation: the result of the action\\n... (this Thought/Action/Action Input/Observation can repeat N times)\\nThought: I now know the final answer\\nFinal Answer: the final answer to the original input question\\n\\nBegin!\\n\\nQuestion: {input}\\nThought:{agent_scratchpad}')\n",
       "  | RunnableBinding(bound=AzureChatOpenAI(verbose=True, client=<openai.resources.chat.completions.Completions object at 0x000001814369AC50>, async_client=<openai.resources.chat.completions.AsyncCompletions object at 0x00000181436AAC90>, temperature=0.3, openai_api_key=SecretStr('**********'), openai_proxy='', azure_endpoint='https://cognizantioa.openai.azure.com/', deployment_name='gpt4-8k-srinid', openai_api_version='2023-05-15', openai_api_type='azure'), kwargs={'stop': ['\\nObservation']})\n",
       "  | ReActSingleInputOutputParser(), input_keys_arg=['input'], return_keys_arg=['output'], stream_runnable=True), tools=[QuerySQLDataBaseTool(description=\"Input to this tool is a detailed and correct SQL query, output is a result from the database. If the query is not correct, an error message will be returned. If an error is returned, rewrite the query, check the query, and try again. If you encounter an issue with Unknown column 'xxxx' in 'field list', use sql_db_schema to query the correct table fields.\", db=<langchain_community.utilities.sql_database.SQLDatabase object at 0x00000181436E7110>), InfoSQLDatabaseTool(description='Input to this tool is a comma-separated list of tables, output is the schema and sample rows for those tables. Be sure that the tables actually exist by calling sql_db_list_tables first! Example Input: table1, table2, table3', db=<langchain_community.utilities.sql_database.SQLDatabase object at 0x00000181436E7110>), ListSQLDatabaseTool(db=<langchain_community.utilities.sql_database.SQLDatabase object at 0x00000181436E7110>), QuerySQLCheckerTool(description='Use this tool to double check if your query is correct before executing it. Always use this tool before executing a query with sql_db_query!', db=<langchain_community.utilities.sql_database.SQLDatabase object at 0x00000181436E7110>, llm=AzureChatOpenAI(verbose=True, client=<openai.resources.chat.completions.Completions object at 0x000001814369AC50>, async_client=<openai.resources.chat.completions.AsyncCompletions object at 0x00000181436AAC90>, temperature=0.3, openai_api_key=SecretStr('**********'), openai_proxy='', azure_endpoint='https://cognizantioa.openai.azure.com/', deployment_name='gpt4-8k-srinid', openai_api_version='2023-05-15', openai_api_type='azure'), llm_chain=LLMChain(prompt=PromptTemplate(input_variables=['dialect', 'query'], template='\\n{query}\\nDouble check the {dialect} query above for common mistakes, including:\\n- Using NOT IN with NULL values\\n- Using UNION when UNION ALL should have been used\\n- Using BETWEEN for exclusive ranges\\n- Data type mismatch in predicates\\n- Properly quoting identifiers\\n- Using the correct number of arguments for functions\\n- Casting to the correct data type\\n- Using the proper columns for joins\\n\\nIf there are any of the above mistakes, rewrite the query. If there are no mistakes, just reproduce the original query.\\n\\nOutput the final SQL query only.\\n\\nSQL Query: '), llm=AzureChatOpenAI(verbose=True, client=<openai.resources.chat.completions.Completions object at 0x000001814369AC50>, async_client=<openai.resources.chat.completions.AsyncCompletions object at 0x00000181436AAC90>, temperature=0.3, openai_api_key=SecretStr('**********'), openai_proxy='', azure_endpoint='https://cognizantioa.openai.azure.com/', deployment_name='gpt4-8k-srinid', openai_api_version='2023-05-15', openai_api_type='azure')))], handle_parsing_errors=True)>),\n",
       "  Tool(name='IT_Support_system', description='useful for when you need to answer questions about IT tickets. Input should be a fully formed question.', func=<bound method Chain.run of AgentExecutor(name='SQL Agent Executor', agent=RunnableAgent(runnable=RunnableAssign(mapper={\n",
       "    agent_scratchpad: RunnableLambda(lambda x: format_log_to_str(x['intermediate_steps']))\n",
       "  })\n",
       "  | PromptTemplate(input_variables=['agent_scratchpad', 'input'], partial_variables={'tools': \"sql_db_query - Input to this tool is a detailed and correct SQL query, output is a result from the database. If the query is not correct, an error message will be returned. If an error is returned, rewrite the query, check the query, and try again. If you encounter an issue with Unknown column 'xxxx' in 'field list', use sql_db_schema to query the correct table fields.\\nsql_db_schema - Input to this tool is a comma-separated list of tables, output is the schema and sample rows for those tables. Be sure that the tables actually exist by calling sql_db_list_tables first! Example Input: table1, table2, table3\\nsql_db_list_tables - Input is an empty string, output is a comma-separated list of tables in the database.\\nsql_db_query_checker - Use this tool to double check if your query is correct before executing it. Always use this tool before executing a query with sql_db_query!\", 'tool_names': 'sql_db_query, sql_db_schema, sql_db_list_tables, sql_db_query_checker'}, template='Answer the following questions as best you can. You have access to the following tools:\\n\\n{tools}\\n\\nUse the following format:\\n\\nQuestion: the input question you must answer\\nThought: you should always think about what to do\\nAction: the action to take, should be one of [{tool_names}]\\nAction Input: the input to the action\\nObservation: the result of the action\\n... (this Thought/Action/Action Input/Observation can repeat N times)\\nThought: I now know the final answer\\nFinal Answer: the final answer to the original input question\\n\\nBegin!\\n\\nQuestion: {input}\\nThought:{agent_scratchpad}')\n",
       "  | RunnableBinding(bound=AzureChatOpenAI(verbose=True, client=<openai.resources.chat.completions.Completions object at 0x000001814369AC50>, async_client=<openai.resources.chat.completions.AsyncCompletions object at 0x00000181436AAC90>, temperature=0.3, openai_api_key=SecretStr('**********'), openai_proxy='', azure_endpoint='https://cognizantioa.openai.azure.com/', deployment_name='gpt4-8k-srinid', openai_api_version='2023-05-15', openai_api_type='azure'), kwargs={'stop': ['\\nObservation']})\n",
       "  | ReActSingleInputOutputParser(), input_keys_arg=['input'], return_keys_arg=['output'], stream_runnable=True), tools=[QuerySQLDataBaseTool(description=\"Input to this tool is a detailed and correct SQL query, output is a result from the database. If the query is not correct, an error message will be returned. If an error is returned, rewrite the query, check the query, and try again. If you encounter an issue with Unknown column 'xxxx' in 'field list', use sql_db_schema to query the correct table fields.\", db=<langchain_community.utilities.sql_database.SQLDatabase object at 0x00000181436E7010>), InfoSQLDatabaseTool(description='Input to this tool is a comma-separated list of tables, output is the schema and sample rows for those tables. Be sure that the tables actually exist by calling sql_db_list_tables first! Example Input: table1, table2, table3', db=<langchain_community.utilities.sql_database.SQLDatabase object at 0x00000181436E7010>), ListSQLDatabaseTool(db=<langchain_community.utilities.sql_database.SQLDatabase object at 0x00000181436E7010>), QuerySQLCheckerTool(description='Use this tool to double check if your query is correct before executing it. Always use this tool before executing a query with sql_db_query!', db=<langchain_community.utilities.sql_database.SQLDatabase object at 0x00000181436E7010>, llm=AzureChatOpenAI(verbose=True, client=<openai.resources.chat.completions.Completions object at 0x000001814369AC50>, async_client=<openai.resources.chat.completions.AsyncCompletions object at 0x00000181436AAC90>, temperature=0.3, openai_api_key=SecretStr('**********'), openai_proxy='', azure_endpoint='https://cognizantioa.openai.azure.com/', deployment_name='gpt4-8k-srinid', openai_api_version='2023-05-15', openai_api_type='azure'), llm_chain=LLMChain(prompt=PromptTemplate(input_variables=['dialect', 'query'], template='\\n{query}\\nDouble check the {dialect} query above for common mistakes, including:\\n- Using NOT IN with NULL values\\n- Using UNION when UNION ALL should have been used\\n- Using BETWEEN for exclusive ranges\\n- Data type mismatch in predicates\\n- Properly quoting identifiers\\n- Using the correct number of arguments for functions\\n- Casting to the correct data type\\n- Using the proper columns for joins\\n\\nIf there are any of the above mistakes, rewrite the query. If there are no mistakes, just reproduce the original query.\\n\\nOutput the final SQL query only.\\n\\nSQL Query: '), llm=AzureChatOpenAI(verbose=True, client=<openai.resources.chat.completions.Completions object at 0x000001814369AC50>, async_client=<openai.resources.chat.completions.AsyncCompletions object at 0x00000181436AAC90>, temperature=0.3, openai_api_key=SecretStr('**********'), openai_proxy='', azure_endpoint='https://cognizantioa.openai.azure.com/', deployment_name='gpt4-8k-srinid', openai_api_version='2023-05-15', openai_api_type='azure')))], handle_parsing_errors=True)>),\n",
       "  Tool(name='Get_Policy_Details', description='A tool that returns textual information about any policies', func=StructuredTool(name='get_policy_details', description='A function that retrieves a policy answer based on a query using a specified index and model.\\n\\nParameters:\\nquery (str): The query string used to search for the policy answer.\\neid (Optional): The entity ID to filter the search by.\\ne_name (Optional): The entity name to filter the search by.\\n\\nReturns:\\nstr: The policy answer retrieved based on the query.', args_schema=<class 'pydantic.v1.main.get_policy_detailsSchema'>, func=<function get_policy_details at 0x0000018131B83920>))],\n",
       " 'chat_history': [HumanMessage(content=' Give me employee details who has Northwind Health Plus insurance and has Zero balance \\n    also provide details on Balance billing protection\\n      give me answer point wise'),\n",
       "  AIMessage(content='I found the following information for you:\\n\\n1. Employee details with Northwind Health Plus insurance and a zero balance:\\n   - Michael Brown (Emp_ID: 42962)\\n   - Jennifer Miller (Emp_ID: 38076)\\n   - Jessica White (Emp_ID: 38613)\\n\\n2. Balance billing protection:\\n   - Balance billing protection is a feature of the Northwind Standard plan offered to Contoso Electronics employees, which protects them from unexpected costs when visiting in-network providers.\\n   - Balance billing occurs when a provider bills you for the difference between what they charge and the amount that your insurance plan covers. With balance billing protection, you are not responsible for this difference when using in-network providers.\\n   - This protection does not apply to out-of-network providers or certain services like cosmetic services and experimental procedures.\\n   - To ensure that balance billing protection applies, it is recommended to get preauthorization, ask questions about the services and costs, use in-network providers, consider alternative treatments, and know your rights.\\n   - Source: Contoso Electronics Plan and Benefit Packages - Balance Billing Protection section.'),\n",
       "  HumanMessage(content='What was the previous question I asked'),\n",
       "  AIMessage(content='The previous question you asked was: \"Give me employee details who has Northwind Health Plus insurance and has Zero balance also provide details on Balance billing protection give me answer point wise.\"')],\n",
       " 'output': 'The previous question you asked was: \"What was the previous question I asked?\"'}"
      ]
     },
     "execution_count": 74,
     "metadata": {},
     "output_type": "execute_result"
    }
   ],
   "source": [
    "result = agent_with_chat_history.invoke({\n",
    "    \"input\": \"\"\"What was the previous question I asked\"\"\",\n",
    "    \"tools\":tools},\n",
    "    config={\"configurable\": {\"session_id\": \"Santosh\"}},\n",
    "    )\n",
    "result"
   ]
  }
 ],
 "metadata": {
  "kernelspec": {
   "display_name": "env_chatbot",
   "language": "python",
   "name": "python3"
  },
  "language_info": {
   "codemirror_mode": {
    "name": "ipython",
    "version": 3
   },
   "file_extension": ".py",
   "mimetype": "text/x-python",
   "name": "python",
   "nbconvert_exporter": "python",
   "pygments_lexer": "ipython3",
   "version": "3.11.0"
  },
  "orig_nbformat": 4
 },
 "nbformat": 4,
 "nbformat_minor": 2
}
